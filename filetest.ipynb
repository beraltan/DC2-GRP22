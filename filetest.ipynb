{
 "cells": [
  {
   "cell_type": "code",
   "execution_count": 2,
   "metadata": {},
   "outputs": [],
   "source": [
    "import pandas as pd\n",
    "\n",
    "# Read the Excel file\n",
    "data = pd.read_excel('lsoa-data.xls')\n",
    "\n",
    "# Convert to CSV\n",
    "data.to_csv('lsoa-data.csv', index=False)\n"
   ]
  },
  {
   "cell_type": "code",
   "execution_count": 10,
   "metadata": {},
   "outputs": [
    {
     "name": "stderr",
     "output_type": "stream",
     "text": [
      "/var/folders/6g/qtm8fg_s6r13q7nvqklvbfth0000gn/T/ipykernel_84245/640829416.py:5: DtypeWarning: Columns (13) have mixed types. Specify dtype option on import or set low_memory=False.\n",
      "  df = pd.read_csv('PCD_OA21_LSOA21_MSOA21_LAD_NOV22_UK_LU.csv', sep=',',encoding='latin-1')\n"
     ]
    }
   ],
   "source": [
    "import pandas as pd\n",
    "import pandas as pd\n",
    "\n",
    "# Read the CSV file\n",
    "df = pd.read_csv('PCD_OA21_LSOA21_MSOA21_LAD_NOV22_UK_LU.csv', sep=',',encoding='latin-1')\n",
    "\n",
    "# Get the unique counts of the last column\n",
    "\n",
    "\n",
    "# Read the CSV file\n",
    "\n",
    "\n",
    "# Get the unique counts of the \"ladnm\" column\n",
    "unique_counts = df['ladnm'].value_counts()\n",
    "\n",
    "unique_counts.to_csv('ladnm.csv', index=True)\n"
   ]
  },
  {
   "cell_type": "code",
   "execution_count": 13,
   "metadata": {},
   "outputs": [
    {
     "name": "stderr",
     "output_type": "stream",
     "text": [
      "/var/folders/6g/qtm8fg_s6r13q7nvqklvbfth0000gn/T/ipykernel_84245/542159919.py:5: DtypeWarning: Columns (2,15,28,41,54,67,80,93,94,95,96,97,98,99,100,101,103,104,105,106,107,108,109,110,111,112,113,114,115,116,117,118,119,120,121,122,123,124,125,126,127,128,129,130,131,132,133,134,135,136,137,138,139,140,141,142,143,144,145,146,147,148,149,150,151,152,153,154,155,156,157,158,159,160,161,162,163,164,165,166,167,168,169,170,171,172,174,175,176,178,179) have mixed types. Specify dtype option on import or set low_memory=False.\n",
      "  data = pd.read_csv(file_path)\n"
     ]
    },
    {
     "name": "stdout",
     "output_type": "stream",
     "text": [
      "  Unnamed: 0   Unnamed: 1 borough Mid-year Population Estimates  Unnamed: 3  \\\n",
      "0        NaN          NaN     NaN                      All Ages         NaN   \n",
      "1      Codes        Names   Names                          2001      2002.0   \n",
      "2  E01000907  Camden 001A  Camden                          1519      1538.0   \n",
      "3  E01000908  Camden 001B  Camden                          1547      1577.0   \n",
      "4  E01000909  Camden 001C  Camden                          1600      1598.0   \n",
      "\n",
      "   Unnamed: 4  Unnamed: 5  Unnamed: 6  Unnamed: 7  Unnamed: 8  ...  \\\n",
      "0         NaN         NaN         NaN         NaN         NaN  ...   \n",
      "1      2003.0      2004.0      2005.0      2006.0      2007.0  ...   \n",
      "2      1528.0      1547.0      1593.0      1492.0      1455.0  ...   \n",
      "3      1605.0      1637.0      1629.0      1598.0      1605.0  ...   \n",
      "4      1618.0      1634.0      1610.0      1635.0      1615.0  ...   \n",
      "\n",
      "   Unnamed: 175  Unnamed: 176  Unnamed: 177  Unnamed: 178  Unnamed: 179  \\\n",
      "0           NaN           NaN           NaN           NaN         Sales   \n",
      "1          2011          2012          2013          2014          2009   \n",
      "2        415000        355000      481249.5        568500             9   \n",
      "3        282500        335000        287500        350000            23   \n",
      "4        435000       1475000       1052000       1412500            11   \n",
      "\n",
      "   Unnamed: 180 Unnamed: 181  Unnamed: 182  Unnamed: 183  Unnamed: 184  \n",
      "0           NaN          NaN           NaN           NaN           NaN  \n",
      "1        2010.0       2011.0        2012.0        2013.0        2014.0  \n",
      "2          14.0         11.0          12.0          16.0          26.0  \n",
      "3          17.0         21.0          27.0          24.0          22.0  \n",
      "4          15.0         19.0          15.0          16.0          16.0  \n",
      "\n",
      "[5 rows x 186 columns]\n"
     ]
    }
   ],
   "source": [
    "import pandas as pd\n",
    "\n",
    "def add_borough_column(file_path,output_path):\n",
    "    # Load the CSV file\n",
    "    data = pd.read_csv(file_path)\n",
    "    \n",
    "    # Check if 'Unnamed: 1' is the correct column name\n",
    "    if 'Unnamed: 1' in data.columns:\n",
    "        # Create the 'borough' column by stripping the numeric suffix from the 'Unnamed: 1' column\n",
    "        data['borough'] = data['Unnamed: 1'].str.extract(r'(^[\\D\\s]+)').apply(lambda x: x.str.strip())\n",
    "\n",
    "        \n",
    "        # Get the position of the 'Unnamed: 1' column\n",
    "        idx = data.columns.get_loc('Unnamed: 1')\n",
    "        \n",
    "        # Rearrange columns to place 'borough' right after 'Unnamed: 1'\n",
    "        cols = list(data.columns)\n",
    "        # Move 'borough' to the right position\n",
    "        new_cols = cols[:idx+1] + ['borough'] + cols[idx+1:-1]  # assuming 'borough' is the last in the list\n",
    "        data = data[new_cols]\n",
    "        \n",
    "        # Save the modified dataframe back to CSV or return it\n",
    "        data.to_csv(output_path, index=False)\n",
    "        return data\n",
    "    else:\n",
    "        raise ValueError(\"Column 'Unnamed: 1' not found in the data.\")\n",
    "\n",
    "# Example usage\n",
    "updated_data = add_borough_column('lsoa-data.csv','lsoa_new.csv')\n",
    "print(updated_data.head())\n"
   ]
  },
  {
   "cell_type": "code",
   "execution_count": 14,
   "metadata": {},
   "outputs": [
    {
     "name": "stderr",
     "output_type": "stream",
     "text": [
      "/var/folders/6g/qtm8fg_s6r13q7nvqklvbfth0000gn/T/ipykernel_84245/4096177988.py:4: DtypeWarning: Columns (3,16,29,42,55,68,81,94,95,96,97,98,99,100,101,102,104,105,106,107,108,109,110,111,112,113,114,115,116,117,118,119,120,121,122,123,124,125,126,127,128,129,130,131,132,133,134,135,136,137,138,139,140,141,142,143,144,145,146,147,148,149,150,151,152,153,154,155,156,157,158,159,160,161,162,163,164,165,166,167,168,169,170,171,172,173,175,176,177,179,180) have mixed types. Specify dtype option on import or set low_memory=False.\n",
      "  df = pd.read_csv('lsoa_new.csv')\n"
     ]
    },
    {
     "name": "stdout",
     "output_type": "stream",
     "text": [
      "34\n"
     ]
    }
   ],
   "source": [
    "import pandas as pd\n",
    "\n",
    "# Read the CSV file\n",
    "df = pd.read_csv('lsoa_new.csv')\n",
    "\n",
    "# Count the unique values in the \"borough\" column\n",
    "unique_counts = df['borough'].nunique()\n",
    "\n",
    "print(unique_counts)\n"
   ]
  },
  {
   "cell_type": "code",
   "execution_count": 18,
   "metadata": {},
   "outputs": [
    {
     "name": "stderr",
     "output_type": "stream",
     "text": [
      "/var/folders/6g/qtm8fg_s6r13q7nvqklvbfth0000gn/T/ipykernel_84245/3068494937.py:4: DtypeWarning: Columns (3,16,29,42,55,68,81,94,95,96,97,98,99,100,101,102,104,105,106,107,108,109,110,111,112,113,114,115,116,117,118,119,120,121,122,123,124,125,126,127,128,129,130,131,132,133,134,135,136,137,138,139,140,141,142,143,144,145,146,147,148,149,150,151,152,153,154,155,156,157,158,159,160,161,162,163,164,165,166,167,168,169,170,171,172,173,175,176,177,179,180) have mixed types. Specify dtype option on import or set low_memory=False.\n",
      "  df = pd.read_csv('lsoa_new.csv')\n"
     ]
    }
   ],
   "source": [
    "import pandas as pd\n",
    "\n",
    "# Read the CSV file\n",
    "df = pd.read_csv('lsoa_new.csv')\n",
    "\n",
    "# Select only the desired columns\n",
    "df = df[['Unnamed: 1', 'borough']]\n",
    "df = df.rename(columns={'Unnamed: 1': 'lsoa_code'})\n",
    "\n",
    "# Save the modified dataframe back to CSV\n",
    "df.to_csv('lsoa_new2.csv', index=False)\n"
   ]
  },
  {
   "cell_type": "code",
   "execution_count": 16,
   "metadata": {},
   "outputs": [
    {
     "name": "stdout",
     "output_type": "stream",
     "text": [
      "              Borough Name  Count\n",
      "0     Kingston upon Thames      1\n",
      "1                Redbridge      1\n",
      "2     Barking and Dagenham      1\n",
      "3                   Newham      1\n",
      "4                 Haringey      1\n",
      "5                  Hackney      1\n",
      "6                Islington      1\n",
      "7            Tower Hamlets      1\n",
      "8                   Camden      1\n",
      "9              Westminster      1\n",
      "10  Kensington and Chelsea      1\n",
      "11  Hammersmith and Fulham      1\n",
      "12              Wandsworth      1\n",
      "13                  Merton      1\n",
      "14    Richmond upon Thames      1\n",
      "15                  Sutton      1\n",
      "16          Waltham Forest      1\n",
      "17                 Croydon      1\n",
      "18                 Enfield      1\n",
      "19                  Bexley      1\n",
      "20               Greenwich      1\n",
      "21                Lewisham      1\n",
      "22               Southwark      1\n",
      "23                 Lambeth      1\n",
      "24                  Barnet      1\n",
      "25                   Brent      1\n",
      "26                  Harrow      1\n",
      "27              Hillingdon      1\n",
      "28                Havering      1\n",
      "29                  Ealing      1\n",
      "30                Hounslow      1\n",
      "31                 Bromley      1\n",
      "32          City of London      1\n"
     ]
    }
   ],
   "source": [
    "import geopandas as gpd\n",
    "\n",
    "# Load the borough shapefile\n",
    "borough_shapefile_path = 'data/secondary_data/map/statistical-gis-boundaries-london/ESRI/London_Borough_Excluding_MHW.shp'\n",
    "borough_gdf = gpd.read_file(borough_shapefile_path)\n",
    "\n",
    "# Assuming the column with borough names is labeled 'NAME'\n",
    "borough_counts = borough_gdf['NAME'].value_counts().reset_index()\n",
    "borough_counts.columns = ['Borough Name', 'Count']\n",
    "\n",
    "print(borough_counts)\n"
   ]
  },
  {
   "cell_type": "code",
   "execution_count": null,
   "metadata": {},
   "outputs": [],
   "source": []
  }
 ],
 "metadata": {
  "kernelspec": {
   "display_name": "DC2",
   "language": "python",
   "name": "python3"
  },
  "language_info": {
   "codemirror_mode": {
    "name": "ipython",
    "version": 3
   },
   "file_extension": ".py",
   "mimetype": "text/x-python",
   "name": "python",
   "nbconvert_exporter": "python",
   "pygments_lexer": "ipython3",
   "version": "3.12.3"
  }
 },
 "nbformat": 4,
 "nbformat_minor": 2
}
