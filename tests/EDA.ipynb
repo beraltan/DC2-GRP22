{
 "cells": [
  {
   "cell_type": "code",
   "execution_count": 8,
   "metadata": {},
   "outputs": [
    {
     "data": {
      "text/html": [
       "\n",
       "        <iframe\n",
       "            width=\"100%\"\n",
       "            height=\"650\"\n",
       "            src=\"http://127.0.0.1:8050/\"\n",
       "            frameborder=\"0\"\n",
       "            allowfullscreen\n",
       "            \n",
       "        ></iframe>\n",
       "        "
      ],
      "text/plain": [
       "<IPython.lib.display.IFrame at 0x3344d0140>"
      ]
     },
     "metadata": {},
     "output_type": "display_data"
    }
   ],
   "source": [
    "import dash\n",
    "from dash import dcc, html, Input, Output\n",
    "import plotly.express as px\n",
    "import pandas as pd\n",
    "\n",
    "# Load your data\n",
    "file_path = '../data/primary_data/concatenated_csvs/metropolitan-street.csv'\n",
    "data = pd.read_csv(file_path)\n",
    "\n",
    "# Convert 'Month' to datetime and group data to count occurrences\n",
    "data['Month'] = pd.to_datetime(data['Month'], errors='coerce')\n",
    "grouped_data = data.groupby(['Crime type', 'Month']).size().reset_index(name='Occurrences')\n",
    "\n",
    "# Create a Dash application\n",
    "app = dash.Dash(__name__)\n",
    "\n",
    "# Layout of the application\n",
    "app.layout = html.Div([\n",
    "    dcc.Checklist(\n",
    "        id='crime-type-selector',\n",
    "        options=[{'label': i, 'value': i} for i in grouped_data['Crime type'].unique()],\n",
    "        value=[grouped_data['Crime type'].unique()[0]],  # Default selects the first crime type\n",
    "        labelStyle={'display': 'block'}\n",
    "    ),\n",
    "    dcc.Graph(id='crime-graph')\n",
    "])\n",
    "\n",
    "# Callback to update the graph based on selected crime types\n",
    "@app.callback(\n",
    "    Output('crime-graph', 'figure'),\n",
    "    [Input('crime-type-selector', 'value')]\n",
    ")\n",
    "def update_graph(selected_crimes):\n",
    "    filtered_data = grouped_data[grouped_data['Crime type'].isin(selected_crimes)]\n",
    "    fig = px.line(filtered_data, x='Month', y='Occurrences', color='Crime type',\n",
    "                  labels={'Month': 'Month of the Year', 'Occurrences': 'Number of Occurrences'},\n",
    "                  title='Crime Occurrences by Month for Selected Crime Types')\n",
    "    return fig\n",
    "\n",
    "# Run the Dash app\n",
    "if __name__ == '__main__':\n",
    "    app.run_server(debug=True)\n"
   ]
  },
  {
   "cell_type": "code",
   "execution_count": 9,
   "metadata": {},
   "outputs": [],
   "source": [
    "!pgrep -f \"python -m dash\"  # For Dash server\n"
   ]
  },
  {
   "cell_type": "code",
   "execution_count": null,
   "metadata": {},
   "outputs": [],
   "source": []
  }
 ],
 "metadata": {
  "kernelspec": {
   "display_name": "DC2",
   "language": "python",
   "name": "python3"
  },
  "language_info": {
   "codemirror_mode": {
    "name": "ipython",
    "version": 3
   },
   "file_extension": ".py",
   "mimetype": "text/x-python",
   "name": "python",
   "nbconvert_exporter": "python",
   "pygments_lexer": "ipython3",
   "version": "3.12.0"
  }
 },
 "nbformat": 4,
 "nbformat_minor": 2
}
